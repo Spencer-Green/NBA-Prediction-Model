{
 "cells": [
  {
   "cell_type": "code",
   "execution_count": 1,
   "metadata": {},
   "outputs": [],
   "source": [
    "import os\n",
    "import asyncio\n",
    "from bs4 import BeautifulSoup\n",
    "from playwright.async_api import async_playwright, TimeoutError as PlaywrightTimeout\n",
    "\n",
    "import time"
   ]
  },
  {
   "cell_type": "code",
   "execution_count": 2,
   "metadata": {},
   "outputs": [],
   "source": [
    "SEASONS = list(range(2023, 2025))"
   ]
  },
  {
   "cell_type": "code",
   "execution_count": 3,
   "metadata": {},
   "outputs": [
    {
     "data": {
      "text/plain": [
       "[2023, 2024]"
      ]
     },
     "execution_count": 3,
     "metadata": {},
     "output_type": "execute_result"
    }
   ],
   "source": [
    "SEASONS"
   ]
  },
  {
   "cell_type": "code",
   "execution_count": 4,
   "metadata": {},
   "outputs": [],
   "source": [
    "DATA_DIR = \"Data\"\n",
    "STANDINGS_DIR = os.path.join(DATA_DIR, \"Standings\")\n",
    "SCORES_DIR = os.path.join(DATA_DIR, \"Scores\")\n",
    "\n",
    "os.makedirs(STANDINGS_DIR, exist_ok=True)\n",
    "os.makedirs(SCORES_DIR, exist_ok=True)"
   ]
  },
  {
   "cell_type": "code",
   "execution_count": 5,
   "metadata": {},
   "outputs": [],
   "source": [
    "async def get_html(url, selector, sleep=5, retries=6):\n",
    "    html = None\n",
    "    async with async_playwright() as p:\n",
    "        browser = await p.firefox.launch(headless=True)\n",
    "        page = await browser.new_page()\n",
    "        for i in range(1, retries+1):\n",
    "            try:\n",
    "                await page.goto(url, timeout=30000)\n",
    "                print(await page.title())\n",
    "                html = await page.inner_html(selector, timeout=30000)\n",
    "            except PlaywrightTimeout as e:\n",
    "                print(f\"Timeout error on {url}: {str(e)}\")\n",
    "                await asyncio.sleep(sleep * i)\n",
    "            else:\n",
    "                break\n",
    "        await page.close()\n",
    "        await browser.close()\n",
    "    return html"
   ]
  },
  {
   "cell_type": "code",
   "execution_count": 6,
   "metadata": {},
   "outputs": [],
   "source": [
    "season = 2023\n",
    "\n",
    "url = f\"https://www.basketball-reference.com/leagues/NBA_{season}_games.html\"\n"
   ]
  },
  {
   "cell_type": "code",
   "execution_count": 7,
   "metadata": {},
   "outputs": [],
   "source": [
    "async def scrape_season(season):\n",
    "    url = f\"https://www.basketball-reference.com/leagues/NBA_{season}_games.html\"\n",
    "    html = await get_html(url, \"#content .filter\")\n",
    "    \n",
    "    soup = BeautifulSoup(html, 'html.parser')\n",
    "    links = soup.find_all(\"a\") \n",
    "    href = [l[\"href\"] for l in links]\n",
    "    standings_pages = [f\"https://basketball-reference.com{l}\" for l in href]\n",
    "    \n",
    "    for url in standings_pages:\n",
    "        save_path = os.path.join(STANDINGS_DIR, url.split(\"/\")[-1])\n",
    "        if os.path.exists(save_path):\n",
    "            continue \n",
    "            \n",
    "        html = await get_html(url, \"#all_schedule\")\n",
    "        with open(save_path, \"w+\") as f:\n",
    "            f.write(html)\n",
    "    "
   ]
  },
  {
   "cell_type": "code",
   "execution_count": 8,
   "metadata": {},
   "outputs": [],
   "source": []
  },
  {
   "cell_type": "code",
   "execution_count": 9,
   "metadata": {},
   "outputs": [],
   "source": [
    "async def scrape_game (standings_files):\n",
    "    with open (standings_files, 'r') as f:\n",
    "        html = f.read()\n",
    "        \n",
    "    soup = BeautifulSoup(html)\n",
    "    links = soup.find_all(\"a\")\n",
    "    hrefs = [l.get(\"href\") for l in links]\n",
    "    box_scores = [l for l in hrefs if l and \"boxscore\" in l and \".html\" in l]\n",
    "    box_scores = [f\"https://www.basketball-reference.com{l}\" for l in box_scores]\n",
    "    \n",
    "    for url in box_scores:\n",
    "        save_path = os.path.join(SCORES_DIR, url.split(\"/\") [-1])\n",
    "        if os.path.exists(save_path):\n",
    "            continue \n",
    "\n",
    "        html = await get_html(url, \"#content\")\n",
    "        if not html:\n",
    "            continue \n",
    "        with open(save_path, \"w+\") as f:\n",
    "            f.write(html)\n",
    "    "
   ]
  },
  {
   "cell_type": "code",
   "execution_count": 10,
   "metadata": {},
   "outputs": [],
   "source": [
    "#for f in standings_files:\n",
    "    #filepath = os.path.join(STANDINGS_DIR, f)\n",
    "    \n",
    "    #await scrape_game(filepath)"
   ]
  },
  {
   "cell_type": "code",
   "execution_count": 12,
   "metadata": {
    "scrolled": false
   },
   "outputs": [
    {
     "name": "stdout",
     "output_type": "stream",
     "text": [
      "Timeout error on https://www.basketball-reference.com/leagues/NBA_2023_games.html: Timeout 30000ms exceeded.\n",
      "=========================== logs ===========================\n",
      "navigating to \"https://www.basketball-reference.com/leagues/NBA_2023_games.html\", waiting until \"load\"\n",
      "============================================================\n",
      "Timeout error on https://www.basketball-reference.com/leagues/NBA_2023_games.html: Timeout 30000ms exceeded.\n",
      "=========================== logs ===========================\n",
      "navigating to \"https://www.basketball-reference.com/leagues/NBA_2023_games.html\", waiting until \"load\"\n",
      "============================================================\n",
      "2022-23 NBA Schedule | Basketball-Reference.com\n",
      "2022-23 NBA Schedule | Basketball-Reference.com\n",
      "2022-23 NBA Schedule | Basketball-Reference.com\n",
      "2022-23 NBA Schedule | Basketball-Reference.com\n",
      "2022-23 NBA Schedule | Basketball-Reference.com\n",
      "2022-23 NBA Schedule | Basketball-Reference.com\n",
      "Timeout error on https://basketball-reference.com/leagues/NBA_2023_games-march.html: Timeout 30000ms exceeded.\n",
      "=========================== logs ===========================\n",
      "navigating to \"https://basketball-reference.com/leagues/NBA_2023_games-march.html\", waiting until \"load\"\n",
      "============================================================\n",
      "2022-23 NBA Schedule | Basketball-Reference.com\n",
      "2022-23 NBA Schedule | Basketball-Reference.com\n",
      "2022-23 NBA Schedule | Basketball-Reference.com\n",
      "2022-23 NBA Schedule | Basketball-Reference.com\n",
      "2023-24 NBA Schedule | Basketball-Reference.com\n",
      "2023-24 NBA Schedule | Basketball-Reference.com\n",
      "2023-24 NBA Schedule | Basketball-Reference.com\n",
      "2023-24 NBA Schedule | Basketball-Reference.com\n",
      "2023-24 NBA Schedule | Basketball-Reference.com\n",
      "2023-24 NBA Schedule | Basketball-Reference.com\n",
      "2023-24 NBA Schedule | Basketball-Reference.com\n",
      "2023-24 NBA Schedule | Basketball-Reference.com\n"
     ]
    }
   ],
   "source": [
    "for season in SEASONS:\n",
    "    await scrape_season(season)"
   ]
  },
  {
   "cell_type": "code",
   "execution_count": 13,
   "metadata": {},
   "outputs": [],
   "source": [
    "standings_files = os.listdir(STANDINGS_DIR)"
   ]
  },
  {
   "cell_type": "code",
   "execution_count": 14,
   "metadata": {},
   "outputs": [
    {
     "data": {
      "text/plain": [
       "['NBA_2022_games-october.html',\n",
       " 'NBA_2021_games-june.html',\n",
       " 'NBA_2020_games-march.html',\n",
       " 'NBA_2020_games-september.html',\n",
       " 'NBA_2020_games-january.html',\n",
       " 'NBA_2020_games-august.html',\n",
       " 'NBA_2023_games-may.html',\n",
       " 'NBA_2019_games-april.html',\n",
       " 'NBA_2023_games-april.html',\n",
       " 'NBA_2022_games-may.html',\n",
       " 'NBA_2019_games-february.html',\n",
       " 'NBA_2018_games-february.html',\n",
       " 'NBA_2023_games-january.html',\n",
       " 'NBA_2016_games-april.html',\n",
       " 'NBA_2024_games-march.html',\n",
       " 'NBA_2021_games-march.html',\n",
       " 'NBA_2018_games-january.html',\n",
       " 'NBA_2024_games-november.html',\n",
       " 'NBA_2017_games-february.html',\n",
       " 'NBA_2024_games-december.html',\n",
       " 'NBA_2016_games-february.html',\n",
       " 'NBA_2017_games-october.html',\n",
       " 'NBA_2018_games-april.html',\n",
       " 'NBA_2020_games-december.html',\n",
       " 'NBA_2019_games-october.html',\n",
       " 'NBA_2020_games-november.html',\n",
       " 'NBA_2021_games-may.html',\n",
       " 'NBA_2021_games-december.html',\n",
       " 'NBA_2022_games-april.html',\n",
       " 'NBA_2020_games-october-2019.html',\n",
       " 'NBA_2022_games-december.html',\n",
       " 'NBA_2023_games-november.html',\n",
       " 'NBA_2024_games-october.html',\n",
       " 'NBA_2023_games-december.html',\n",
       " 'NBA_2017_games-april.html',\n",
       " 'NBA_2022_games-november.html',\n",
       " 'NBA_2016_games-january.html',\n",
       " 'NBA_2018_games-october.html',\n",
       " 'NBA_2017_games-march.html',\n",
       " 'NBA_2021_games-february.html',\n",
       " 'NBA_2020_games-february.html',\n",
       " 'NBA_2017_games-june.html',\n",
       " 'NBA_2022_games-march.html',\n",
       " 'NBA_2023_games-february.html',\n",
       " 'NBA_2018_games-june.html',\n",
       " 'NBA_2017_games-january.html',\n",
       " 'NBA_2020_games-october-2020.html',\n",
       " 'NBA_2022_games-february.html',\n",
       " 'NBA_2024_games-february.html',\n",
       " 'NBA_2017_games-november.html',\n",
       " 'NBA_2016_games-december.html',\n",
       " 'NBA_2021_games-july.html',\n",
       " 'NBA_2016_games-november.html',\n",
       " 'NBA_2022_games-june.html',\n",
       " 'NBA_2018_games-march.html',\n",
       " 'NBA_2017_games-december.html',\n",
       " 'NBA_2019_games-january.html',\n",
       " 'NBA_2024_games-january.html',\n",
       " 'NBA_2016_games-october.html',\n",
       " 'NBA_2021_games-april.html',\n",
       " 'NBA_2019_games-november.html',\n",
       " 'NBA_2020_games-july.html',\n",
       " 'NBA_2018_games-december.html',\n",
       " 'NBA_2022_games-january.html',\n",
       " 'NBA_2024_games-april.html',\n",
       " 'NBA_2018_games-november.html',\n",
       " 'NBA_2016_games-march.html',\n",
       " 'NBA_2019_games-december.html',\n",
       " 'NBA_2023_games-june.html',\n",
       " 'NBA_2019_games-may.html',\n",
       " 'NBA_2016_games-may.html',\n",
       " 'NBA_2023_games-march.html',\n",
       " 'NBA_2019_games-march.html',\n",
       " 'NBA_2017_games-may.html',\n",
       " 'NBA_2016_games-june.html',\n",
       " 'NBA_2023_games-october.html',\n",
       " 'NBA_2019_games-june.html',\n",
       " 'NBA_2018_games-may.html',\n",
       " 'NBA_2021_games-january.html']"
      ]
     },
     "execution_count": 14,
     "metadata": {},
     "output_type": "execute_result"
    }
   ],
   "source": [
    "standings_files"
   ]
  },
  {
   "cell_type": "code",
   "execution_count": null,
   "metadata": {},
   "outputs": [],
   "source": []
  }
 ],
 "metadata": {
  "kernelspec": {
   "display_name": "Python 3 (ipykernel)",
   "language": "python",
   "name": "python3"
  },
  "language_info": {
   "codemirror_mode": {
    "name": "ipython",
    "version": 3
   },
   "file_extension": ".py",
   "mimetype": "text/x-python",
   "name": "python",
   "nbconvert_exporter": "python",
   "pygments_lexer": "ipython3",
   "version": "3.11.5"
  }
 },
 "nbformat": 4,
 "nbformat_minor": 4
}
