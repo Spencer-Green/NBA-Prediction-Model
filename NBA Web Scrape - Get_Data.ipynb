{
 "cells": [
  {
   "cell_type": "code",
   "execution_count": 1,
   "metadata": {},
   "outputs": [],
   "source": [
    "import os\n",
    "import asyncio\n",
    "from bs4 import BeautifulSoup\n",
    "from playwright.async_api import async_playwright, TimeoutError as PlaywrightTimeout\n",
    "\n",
    "import time\n",
    "import chardet"
   ]
  },
  {
   "cell_type": "code",
   "execution_count": 2,
   "metadata": {},
   "outputs": [],
   "source": [
    "# defining range of recent NBA seasons to scrape (update the years to scape any number of season in recorded NBA history)\n",
    "\n",
    "SEASONS = list(range(2023, 2025))"
   ]
  },
  {
   "cell_type": "code",
   "execution_count": 3,
   "metadata": {},
   "outputs": [
    {
     "data": {
      "text/plain": [
       "[2023, 2024]"
      ]
     },
     "execution_count": 3,
     "metadata": {},
     "output_type": "execute_result"
    }
   ],
   "source": [
    "SEASONS"
   ]
  },
  {
   "cell_type": "code",
   "execution_count": 4,
   "metadata": {},
   "outputs": [],
   "source": [
    "# Creating directories on local drive for scraped data (STANDINGS_DIR was for initial training data to refine model. STANDINGS_UPDATED_DIR is for up to date data for future predictions of 2024 season)\n",
    "\n",
    "DATA_DIR = \"Data\"\n",
    "STANDINGS_DIR = os.path.join(DATA_DIR, \"Standings\")\n",
    "STANDINGS_UPDATED_DIR = os.path.join(DATA_DIR, \"Updated_Standings\")\n",
    "SCORES_DIR = os.path.join(DATA_DIR, \"Scores\")\n",
    "\n",
    "os.makedirs(STANDINGS_DIR, exist_ok=True)\n",
    "os.makedirs(STANDINGS_UPDATED_DIR, exist_ok=True)\n",
    "os.makedirs(SCORES_DIR, exist_ok=True)"
   ]
  },
  {
   "cell_type": "code",
   "execution_count": 5,
   "metadata": {},
   "outputs": [],
   "source": [
    "standings_files = os.listdir(STANDINGS_UPDATED_DIR)\n"
   ]
  },
  {
   "cell_type": "code",
   "execution_count": 6,
   "metadata": {},
   "outputs": [],
   "source": [
    "# get HTML function: passing in URL, selector, sleep interval and a number of retries\n",
    "\n",
    "async def get_html(url, selector, sleep=5, retries=6):\n",
    "    html = None\n",
    "    # initialise playwright, browser\n",
    "    async with async_playwright() as p:\n",
    "        browser = await p.firefox.launch(headless=True)\n",
    "        page = await browser.new_page()\n",
    "        for i in range(1, retries+1):\n",
    "            \n",
    "            # wrap it into a try except block\n",
    "            try:\n",
    "                await page.goto(url, timeout=30000)\n",
    "                print(await page.title())\n",
    "                html = await page.inner_html(selector, timeout=30000)\n",
    "            except PlaywrightTimeout as e:\n",
    "                print(f\"Timeout error on {url}: {str(e)}\")\n",
    "                await asyncio.sleep(sleep * i)\n",
    "            else:\n",
    "                break\n",
    "        await page.close()\n",
    "        await browser.close()\n",
    "    return html"
   ]
  },
  {
   "cell_type": "code",
   "execution_count": 7,
   "metadata": {},
   "outputs": [],
   "source": [
    "season = 2023\n",
    "\n",
    "url = f\"https://www.basketball-reference.com/leagues/NBA_{season}_games.html\"\n"
   ]
  },
  {
   "cell_type": "code",
   "execution_count": 8,
   "metadata": {},
   "outputs": [],
   "source": [
    "# scrape season by season function (will then break this down into box_scores for each game per season)\n",
    "\n",
    "async def scrape_season(season):\n",
    "    url = f\"https://www.basketball-reference.com/leagues/NBA_{season}_games.html\"\n",
    "    html = await get_html(url, \"#content .filter\")\n",
    "    \n",
    "    soup = BeautifulSoup(html, 'html.parser')\n",
    "    links = soup.find_all(\"a\") \n",
    "    href = [l[\"href\"] for l in links]\n",
    "    standings_pages = [f\"https://basketball-reference.com{l}\" for l in href]\n",
    "    \n",
    "    for url in standings_pages:\n",
    "        save_path = os.path.join(STANDINGS_UPDATED_DIR, url.split(\"/\")[-1])\n",
    "        if os.path.exists(save_path):\n",
    "            continue \n",
    "            \n",
    "        html = await get_html(url, \"#all_schedule\")\n",
    "        with open(save_path, \"w+\") as f:\n",
    "            f.write(html)\n",
    "    "
   ]
  },
  {
   "cell_type": "code",
   "execution_count": 9,
   "metadata": {},
   "outputs": [],
   "source": [
    "# parsing each individual box score per season \n",
    "async def scrape_game (standings_file):\n",
    "    with open (standings_file, 'r', encoding='ISO-8859-1') as f:\n",
    "        html = f.read()\n",
    "\n",
    "    soup = BeautifulSoup(html)\n",
    "    links = soup.find_all(\"a\")\n",
    "    hrefs = [l.get(\"href\") for l in links]\n",
    "    box_scores = [l for l in hrefs if l and \"boxscore\" in l and \".html\" in l]\n",
    "    box_scores = [f\"https://www.basketball-reference.com{l}\" for l in box_scores]\n",
    "\n",
    "    for url in box_scores:\n",
    "        save_path = os.path.join(SCORES_DIR, url.split(\"/\") [-1])\n",
    "        if os.path.exists(save_path):\n",
    "            continue \n",
    "\n",
    "        html = await get_html(url, \"#content\")\n",
    "        if not html:\n",
    "            continue \n",
    "        with open(save_path, \"w+\") as f:\n",
    "            f.write(html)\n",
    "    "
   ]
  },
  {
   "cell_type": "code",
   "execution_count": 11,
   "metadata": {},
   "outputs": [],
   "source": [
    "# downloading the box scores to drive\n",
    "\n",
    "for f in standings_files:\n",
    "    filepath = os.path.join(STANDINGS_UPDATED_DIR, f)\n",
    "        \n",
    "    await scrape_game(filepath)"
   ]
  },
  {
   "cell_type": "code",
   "execution_count": 132,
   "metadata": {},
   "outputs": [
    {
     "data": {
      "text/plain": [
       "['https://www.basketball-reference.com/boxscores/202305010BOS.html',\n",
       " 'https://www.basketball-reference.com/boxscores/202305010DEN.html',\n",
       " 'https://www.basketball-reference.com/boxscores/202305020NYK.html',\n",
       " 'https://www.basketball-reference.com/boxscores/202305020GSW.html',\n",
       " 'https://www.basketball-reference.com/boxscores/202305030BOS.html',\n",
       " 'https://www.basketball-reference.com/boxscores/202305040GSW.html',\n",
       " 'https://www.basketball-reference.com/boxscores/202305050PHI.html',\n",
       " 'https://www.basketball-reference.com/boxscores/202305050PHO.html',\n",
       " 'https://www.basketball-reference.com/boxscores/202305060MIA.html',\n",
       " 'https://www.basketball-reference.com/boxscores/202305060LAL.html',\n",
       " 'https://www.basketball-reference.com/boxscores/202305070PHI.html',\n",
       " 'https://www.basketball-reference.com/boxscores/202305070PHO.html',\n",
       " 'https://www.basketball-reference.com/boxscores/202305080MIA.html',\n",
       " 'https://www.basketball-reference.com/boxscores/202305080LAL.html',\n",
       " 'https://www.basketball-reference.com/boxscores/202305090BOS.html',\n",
       " 'https://www.basketball-reference.com/boxscores/202305090DEN.html',\n",
       " 'https://www.basketball-reference.com/boxscores/202305100NYK.html',\n",
       " 'https://www.basketball-reference.com/boxscores/202305100GSW.html',\n",
       " 'https://www.basketball-reference.com/boxscores/202305110PHI.html',\n",
       " 'https://www.basketball-reference.com/boxscores/202305110PHO.html',\n",
       " 'https://www.basketball-reference.com/boxscores/202305120MIA.html',\n",
       " 'https://www.basketball-reference.com/boxscores/202305120LAL.html',\n",
       " 'https://www.basketball-reference.com/boxscores/202305140BOS.html',\n",
       " 'https://www.basketball-reference.com/boxscores/202305160DEN.html',\n",
       " 'https://www.basketball-reference.com/boxscores/202305170BOS.html',\n",
       " 'https://www.basketball-reference.com/boxscores/202305180DEN.html',\n",
       " 'https://www.basketball-reference.com/boxscores/202305190BOS.html',\n",
       " 'https://www.basketball-reference.com/boxscores/202305200LAL.html',\n",
       " 'https://www.basketball-reference.com/boxscores/202305210MIA.html',\n",
       " 'https://www.basketball-reference.com/boxscores/202305220LAL.html',\n",
       " 'https://www.basketball-reference.com/boxscores/202305230MIA.html',\n",
       " 'https://www.basketball-reference.com/boxscores/202305250BOS.html',\n",
       " 'https://www.basketball-reference.com/boxscores/202305270MIA.html',\n",
       " 'https://www.basketball-reference.com/boxscores/202305290BOS.html']"
      ]
     },
     "execution_count": 132,
     "metadata": {},
     "output_type": "execute_result"
    }
   ],
   "source": [
    "box_scores"
   ]
  },
  {
   "cell_type": "code",
   "execution_count": 124,
   "metadata": {},
   "outputs": [
    {
     "name": "stdout",
     "output_type": "stream",
     "text": [
      "Detected encoding: ascii\n"
     ]
    }
   ],
   "source": [
    "#def detect_encoding(file_path):\n",
    "    #with open(file_path, 'rb') as f:\n",
    "        #rawdata = f.read()\n",
    "    #return chardet.detect(rawdata)['encoding']\n",
    "\n",
    "# Use the function on your file\n",
    "#encoding = detect_encoding('/Users/spencergreen/NBA-Prediction-Model/Data/Updated_Standings/NBA_2023_games-april.html')\n",
    "#print(f\"Detected encoding: {encoding}\")\n"
   ]
  },
  {
   "cell_type": "code",
   "execution_count": 131,
   "metadata": {},
   "outputs": [
    {
     "name": "stdout",
     "output_type": "stream",
     "text": [
      "b'\\n\\n<div class=\"section_heading assoc_schedule has_controls\" id=\"schedule_sh\">\\n  <span class=\"section_anchor\" id=\"schedule_link\" data-label=\"June Schedule\"></span><h2>June Schedule</h2>    <div class=\"section_heading_text\">\\n      <ul>\\n      <li class=\"hasmore\"><span>Share &amp; Export</span><div><ul><li><button class=\"tooltip\" tip=\"Use a customizable report creator that can<br>output HTML, CSV, or a shareable link.\" type=\"button\" id=\"share_on_schedule\">Modify, Export &amp; Share Table</button></li><li><button class=\"tooltip\" tip=\"Convert the table below to comma-separated values<br>suitable for use with Excel\" type=\"button\">Get as Excel Workbook</button><a id=\"dlink\" style=\"display: none;\"></a></li><li><button class=\"tooltip\" tip=\"Get a link directly to this table on this page\" type=\"button\">Get table as CSV (for Excel)</button></li><li><button class=\"tooltip\" tip=\"\" type=\"button\" id=\"a_schedule\" name=\"schedule\" href=\"#schedule\">Get Link to Table</button></li><li><button class=\"tooltip\" tip=\"\" type=\"button\">About Sharing Tools</button></li><li><button class=\"tooltip\" tip=\"\" type=\"button\"><a href=\"https://www.youtube.com/watch?v=MWapXbaWs_U&amp;feature=youtu.be\" target=\"_blank\">Video: SR Sharing Tools &amp; How-to</a></button></li><li><button class=\"tooltip\" tip=\"\" type=\"button\"><a href=\"https://www.youtube.com/watch?v=JkDLV0roT14&amp;feature=youtu.be\" target=\"_blank\">Video: Stats Table Tips &amp; Tricks</a></button></li><li><button class=\"tooltip\" tip=\"\" type=\"button\"><a href=\"https://www.sports-reference.com/data_use.html?__hstc=180814520.db594813c26da12684b284188ef5806f.1706170119860.1706170119860.1706170119860.1&amp;__hssc=180814520.1.1706170119860&amp;__hsfp=1409737676\" target=\"_blank\">Data Usage Terms</a></button></li></ul></div></li></ul>\\n    </div>\\n    \\t\\t\\n</div>\\n<div class=\"table_container is_setup\" id=\"div_schedule\">\\n    \\n    <table class=\"suppress_glossary sortable stats_table now_sortable\" id=\"schedule\" data-cols-to-freeze=\",1\">\\n    <caption>June Schedule Table</caption>\\n    \\n\\n   <colgroup><col><col><col><col><col><col><col><col><col><col><col></colgroup>\\n   <thead>      \\n      <tr>\\n         <th aria-label=\"Date\" data-stat=\"date_game\" scope=\"col\" class=\" poptip sort_default_asc center\">Date</th>\\n         <th aria-label=\"Start (ET)\" data-stat=\"game_start_time\" scope=\"col\" class=\" poptip center\">Start (ET)</th>\\n         <th aria-label=\"Visitor/Neutral\" data-stat=\"visitor_team_name\" scope=\"col\" class=\" poptip sort_default_asc center\">Visitor/Neutral</th>\\n         <th aria-label=\"Visitor Points\" data-stat=\"visitor_pts\" scope=\"col\" class=\" poptip center\" data-tip=\"Points\">PTS</th>\\n         <th aria-label=\"Home/Neutral\" data-stat=\"home_team_name\" scope=\"col\" class=\" poptip sort_default_asc center\">Home/Neutral</th>\\n         <th aria-label=\"Home Points\" data-stat=\"home_pts\" scope=\"col\" class=\" poptip center\">PTS</th>\\n         <th aria-label=\"&nbsp;\" data-stat=\"box_score_text\" scope=\"col\" class=\" poptip sort_default_asc center\">&nbsp;</th>\\n         <th aria-label=\"&nbsp;\" data-stat=\"overtimes\" scope=\"col\" class=\" poptip center\">&nbsp;</th>\\n         <th aria-label=\"Attend.\" d'\n"
     ]
    }
   ],
   "source": [
    "#def print_file_up_to_byte(file_path, byte_position):\n",
    "    #with open(file_path, 'rb') as file:\n",
    "        #content = file.read(byte_position)\n",
    "    #print(content)\n",
    "\n",
    "#print_file_up_to_byte('/Users/spencergreen/NBA-Prediction-Model/Data/Updated_Standings/NBA_2023_games-june.html', 3131)"
   ]
  },
  {
   "cell_type": "code",
   "execution_count": null,
   "metadata": {},
   "outputs": [],
   "source": []
  }
 ],
 "metadata": {
  "kernelspec": {
   "display_name": "Python 3 (ipykernel)",
   "language": "python",
   "name": "python3"
  },
  "language_info": {
   "codemirror_mode": {
    "name": "ipython",
    "version": 3
   },
   "file_extension": ".py",
   "mimetype": "text/x-python",
   "name": "python",
   "nbconvert_exporter": "python",
   "pygments_lexer": "ipython3",
   "version": "3.11.5"
  }
 },
 "nbformat": 4,
 "nbformat_minor": 4
}
