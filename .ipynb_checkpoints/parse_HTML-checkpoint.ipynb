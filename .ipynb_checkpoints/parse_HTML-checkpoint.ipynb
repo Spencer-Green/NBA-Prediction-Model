{
 "cells": [
  {
   "cell_type": "code",
   "execution_count": 7,
   "id": "f98281d7",
   "metadata": {},
   "outputs": [],
   "source": [
    "import pandas as pd\n",
    "from datetime import datetime"
   ]
  },
  {
   "cell_type": "code",
   "execution_count": 8,
   "id": "e233eb3a",
   "metadata": {},
   "outputs": [],
   "source": [
    "# file paths for HTML data\n",
    "january_file = '/Users/spencergreen/NBA-Prediction-Model/Data/Updated_Standings/NBA_2024_games-january_updated.html'\n",
    "february_file = '/Users/spencergreen/NBA-Prediction-Model/Data/Updated_Standings/NBA_2024_games-february.html'\n",
    "march_file = '/Users/spencergreen/NBA-Prediction-Model/Data/Updated_Standings/NBA_2024_games-march.html'\n",
    "april_file = '/Users/spencergreen/NBA-Prediction-Model/Data/Updated_Standings/NBA_2024_games-april.html'\n"
   ]
  },
  {
   "cell_type": "code",
   "execution_count": 9,
   "id": "215ab911",
   "metadata": {},
   "outputs": [],
   "source": [
    "# reading the HTML files\n",
    "january_df = pd.read_html(january_file)[0]\n",
    "february_df = pd.read_html(february_file)[0]\n",
    "march_df = pd.read_html(march_file)[0]\n",
    "april_df = pd.read_html(april_file)[0]"
   ]
  },
  {
   "cell_type": "code",
   "execution_count": 10,
   "id": "a32941fa",
   "metadata": {},
   "outputs": [],
   "source": [
    "# combining the DataFrames\n",
    "combined_fixtures_df = pd.concat([january_df, february_df, march_df, april_df], ignore_index=True)"
   ]
  },
  {
   "cell_type": "code",
   "execution_count": 11,
   "id": "1795d3dd",
   "metadata": {
    "scrolled": true
   },
   "outputs": [
    {
     "data": {
      "text/html": [
       "<div>\n",
       "<style scoped>\n",
       "    .dataframe tbody tr th:only-of-type {\n",
       "        vertical-align: middle;\n",
       "    }\n",
       "\n",
       "    .dataframe tbody tr th {\n",
       "        vertical-align: top;\n",
       "    }\n",
       "\n",
       "    .dataframe thead th {\n",
       "        text-align: right;\n",
       "    }\n",
       "</style>\n",
       "<table border=\"1\" class=\"dataframe\">\n",
       "  <thead>\n",
       "    <tr style=\"text-align: right;\">\n",
       "      <th></th>\n",
       "      <th>Date</th>\n",
       "      <th>Start (ET)</th>\n",
       "      <th>Visitor/Neutral</th>\n",
       "      <th>PTS</th>\n",
       "      <th>Home/Neutral</th>\n",
       "      <th>PTS.1</th>\n",
       "      <th>Unnamed: 6</th>\n",
       "      <th>Unnamed: 7</th>\n",
       "      <th>Attend.</th>\n",
       "      <th>Arena</th>\n",
       "      <th>Notes</th>\n",
       "    </tr>\n",
       "  </thead>\n",
       "  <tbody>\n",
       "    <tr>\n",
       "      <th>0</th>\n",
       "      <td>Wed, Jan 24, 2024</td>\n",
       "      <td>7:00p</td>\n",
       "      <td>Charlotte Hornets</td>\n",
       "      <td>NaN</td>\n",
       "      <td>Detroit Pistons</td>\n",
       "      <td>NaN</td>\n",
       "      <td>NaN</td>\n",
       "      <td>NaN</td>\n",
       "      <td>NaN</td>\n",
       "      <td>Little Caesars Arena</td>\n",
       "      <td>NaN</td>\n",
       "    </tr>\n",
       "    <tr>\n",
       "      <th>1</th>\n",
       "      <td>Wed, Jan 24, 2024</td>\n",
       "      <td>7:00p</td>\n",
       "      <td>Minnesota Timberwolves</td>\n",
       "      <td>NaN</td>\n",
       "      <td>Washington Wizards</td>\n",
       "      <td>NaN</td>\n",
       "      <td>NaN</td>\n",
       "      <td>NaN</td>\n",
       "      <td>NaN</td>\n",
       "      <td>Capital One Arena</td>\n",
       "      <td>NaN</td>\n",
       "    </tr>\n",
       "    <tr>\n",
       "      <th>2</th>\n",
       "      <td>Wed, Jan 24, 2024</td>\n",
       "      <td>7:30p</td>\n",
       "      <td>Memphis Grizzlies</td>\n",
       "      <td>NaN</td>\n",
       "      <td>Miami Heat</td>\n",
       "      <td>NaN</td>\n",
       "      <td>NaN</td>\n",
       "      <td>NaN</td>\n",
       "      <td>NaN</td>\n",
       "      <td>Kaseya Center</td>\n",
       "      <td>NaN</td>\n",
       "    </tr>\n",
       "    <tr>\n",
       "      <th>3</th>\n",
       "      <td>Wed, Jan 24, 2024</td>\n",
       "      <td>8:00p</td>\n",
       "      <td>Portland Trail Blazers</td>\n",
       "      <td>NaN</td>\n",
       "      <td>Houston Rockets</td>\n",
       "      <td>NaN</td>\n",
       "      <td>NaN</td>\n",
       "      <td>NaN</td>\n",
       "      <td>NaN</td>\n",
       "      <td>Toyota Center</td>\n",
       "      <td>NaN</td>\n",
       "    </tr>\n",
       "    <tr>\n",
       "      <th>4</th>\n",
       "      <td>Wed, Jan 24, 2024</td>\n",
       "      <td>8:00p</td>\n",
       "      <td>Cleveland Cavaliers</td>\n",
       "      <td>NaN</td>\n",
       "      <td>Milwaukee Bucks</td>\n",
       "      <td>NaN</td>\n",
       "      <td>NaN</td>\n",
       "      <td>NaN</td>\n",
       "      <td>NaN</td>\n",
       "      <td>Fiserv Forum</td>\n",
       "      <td>NaN</td>\n",
       "    </tr>\n",
       "  </tbody>\n",
       "</table>\n",
       "</div>"
      ],
      "text/plain": [
       "                Date Start (ET)         Visitor/Neutral  PTS  \\\n",
       "0  Wed, Jan 24, 2024      7:00p       Charlotte Hornets  NaN   \n",
       "1  Wed, Jan 24, 2024      7:00p  Minnesota Timberwolves  NaN   \n",
       "2  Wed, Jan 24, 2024      7:30p       Memphis Grizzlies  NaN   \n",
       "3  Wed, Jan 24, 2024      8:00p  Portland Trail Blazers  NaN   \n",
       "4  Wed, Jan 24, 2024      8:00p     Cleveland Cavaliers  NaN   \n",
       "\n",
       "         Home/Neutral PTS.1  Unnamed: 6  Unnamed: 7 Attend.  \\\n",
       "0     Detroit Pistons   NaN         NaN         NaN     NaN   \n",
       "1  Washington Wizards   NaN         NaN         NaN     NaN   \n",
       "2          Miami Heat   NaN         NaN         NaN     NaN   \n",
       "3     Houston Rockets   NaN         NaN         NaN     NaN   \n",
       "4     Milwaukee Bucks   NaN         NaN         NaN     NaN   \n",
       "\n",
       "                  Arena Notes  \n",
       "0  Little Caesars Arena   NaN  \n",
       "1     Capital One Arena   NaN  \n",
       "2         Kaseya Center   NaN  \n",
       "3         Toyota Center   NaN  \n",
       "4          Fiserv Forum   NaN  "
      ]
     },
     "execution_count": 11,
     "metadata": {},
     "output_type": "execute_result"
    }
   ],
   "source": [
    "combined_fixtures_df.head()"
   ]
  },
  {
   "cell_type": "code",
   "execution_count": null,
   "id": "5b610b1a",
   "metadata": {},
   "outputs": [],
   "source": []
  }
 ],
 "metadata": {
  "kernelspec": {
   "display_name": "Python 3 (ipykernel)",
   "language": "python",
   "name": "python3"
  },
  "language_info": {
   "codemirror_mode": {
    "name": "ipython",
    "version": 3
   },
   "file_extension": ".py",
   "mimetype": "text/x-python",
   "name": "python",
   "nbconvert_exporter": "python",
   "pygments_lexer": "ipython3",
   "version": "3.11.5"
  }
 },
 "nbformat": 4,
 "nbformat_minor": 5
}
