{
 "cells": [
  {
   "cell_type": "code",
   "execution_count": 49,
   "id": "a34cf690",
   "metadata": {},
   "outputs": [],
   "source": [
    "import os\n",
    "import pandas as pd\n",
    "from bs4 import BeautifulSoup"
   ]
  },
  {
   "cell_type": "code",
   "execution_count": 50,
   "id": "6a6aa90f",
   "metadata": {},
   "outputs": [],
   "source": [
    "SCORE_DIR = \"data/scores\""
   ]
  },
  {
   "cell_type": "code",
   "execution_count": 51,
   "id": "d706b8a3",
   "metadata": {},
   "outputs": [],
   "source": [
    "box_scores = os.listdir(SCORE_DIR)"
   ]
  },
  {
   "cell_type": "code",
   "execution_count": 52,
   "id": "6834f835",
   "metadata": {},
   "outputs": [],
   "source": [
    "box_scores = [os.path.join(SCORE_DIR, f) for f in box_scores if f.endswith(\".html\")] "
   ]
  },
  {
   "cell_type": "code",
   "execution_count": 53,
   "id": "cd72585a",
   "metadata": {},
   "outputs": [],
   "source": [
    "def parse_html(box_score):\n",
    "    with open(box_score) as f:\n",
    "        html = f.read()\n",
    "        \n",
    "    soup = BeautifulSoup(html)\n",
    "    [s.decompose() for s in soup.select(\"tr.over_header\")]\n",
    "    [s.decompose() for s in soup.select(\"tr.thead\")]\n",
    "    return soup"
   ]
  },
  {
   "cell_type": "code",
   "execution_count": 54,
   "id": "b38ccddc",
   "metadata": {},
   "outputs": [],
   "source": [
    "def read_line_score(soup):\n",
    "    line_score = pd.read_html(str(soup), attrs={\"id\": \"line_score\"})[0]\n",
    "    cols = list(line_score.columns)\n",
    "    cols[0] = \"team\"\n",
    "    cols[-1] = \"total\"\n",
    "    line_score.columns = cols\n",
    "    \n",
    "    line_score = line_score[[\"team\", \"total\"]]\n",
    "    return line_score "
   ]
  },
  {
   "cell_type": "code",
   "execution_count": 55,
   "id": "b4059658",
   "metadata": {},
   "outputs": [],
   "source": [
    "def read_stats (soup, team, stat):\n",
    "    df = pd.read_html(str(soup), attrs={\"id\": f\"box-{team}-game-{stat}\"}, index_col=0)[0]\n",
    "    df = df.apply(pd.to_numeric, errors=\"coerce\")\n",
    "    return df\n",
    "    "
   ]
  },
  {
   "cell_type": "code",
   "execution_count": 75,
   "id": "83f56b8b",
   "metadata": {},
   "outputs": [],
   "source": [
    "base_cols = None\n",
    "box_score = box_scores[0]\n",
    "\n",
    "#for box_score in box_scores:\n",
    "soup = parse_html(box_score)\n",
    "line_score = read_line_score(soup)\n",
    "teams = list(line_score[\"team\"])\n",
    "\n",
    "summaries = []\n",
    "for team in teams:\n",
    "    basic = read_stats(soup, team, \"basic\")\n",
    "    advanced = read_stats(soup, team, \"advanced\")\n",
    "    \n",
    "    totals = pd.concat([basic.iloc[-1,:], advanced.iloc[-1, :]])\n",
    "    totals.index = totals.index.str.lower()\n",
    "    \n",
    "    maxes = pd.concat([basic.iloc[:-1,:].max(), advanced.iloc[:-1,:].max()])\n",
    "    maxes.index = maxes.index.str.lower() + \"_max\"\n",
    "    \n",
    "    summary = pd.concat([totals, maxes])\n",
    "\n",
    "    if base_cols is None:\n",
    "        base_cols = list(summary.index.drop_duplicates(keep-\"first\"))\n",
    "    \n",
    "\n"
   ]
  },
  {
   "cell_type": "code",
   "execution_count": 76,
   "id": "73be0340",
   "metadata": {},
   "outputs": [
    {
     "data": {
      "text/plain": [
       "mp          240.00\n",
       "fg           36.00\n",
       "fga         100.00\n",
       "fg%           0.36\n",
       "3p            7.00\n",
       "             ...  \n",
       "tov%_max     22.80\n",
       "usg%_max     29.00\n",
       "ortg_max    178.00\n",
       "drtg_max    111.00\n",
       "bpm_max       5.50\n",
       "Length: 72, dtype: float64"
      ]
     },
     "execution_count": 76,
     "metadata": {},
     "output_type": "execute_result"
    }
   ],
   "source": [
    "summary"
   ]
  },
  {
   "cell_type": "code",
   "execution_count": null,
   "id": "1afe4764",
   "metadata": {},
   "outputs": [],
   "source": []
  }
 ],
 "metadata": {
  "kernelspec": {
   "display_name": "Python 3 (ipykernel)",
   "language": "python",
   "name": "python3"
  },
  "language_info": {
   "codemirror_mode": {
    "name": "ipython",
    "version": 3
   },
   "file_extension": ".py",
   "mimetype": "text/x-python",
   "name": "python",
   "nbconvert_exporter": "python",
   "pygments_lexer": "ipython3",
   "version": "3.11.5"
  }
 },
 "nbformat": 4,
 "nbformat_minor": 5
}
