{
 "cells": [
  {
   "cell_type": "code",
   "execution_count": 47,
   "metadata": {},
   "outputs": [],
   "source": [
    "import os\n",
    "import asyncio\n",
    "from bs4 import BeautifulSoup\n",
    "from playwright.async_api import async_playwright, TimeoutError as PlaywrightTimeout\n",
    "\n",
    "import time"
   ]
  },
  {
   "cell_type": "code",
   "execution_count": 48,
   "metadata": {},
   "outputs": [],
   "source": [
    "SEASONS = list(range(2023, 2025))"
   ]
  },
  {
   "cell_type": "code",
   "execution_count": 49,
   "metadata": {},
   "outputs": [
    {
     "data": {
      "text/plain": [
       "[2023, 2024]"
      ]
     },
     "execution_count": 49,
     "metadata": {},
     "output_type": "execute_result"
    }
   ],
   "source": [
    "SEASONS"
   ]
  },
  {
   "cell_type": "code",
   "execution_count": 50,
   "metadata": {},
   "outputs": [],
   "source": [
    "DATA_DIR = \"Data\"\n",
    "STANDINGS_DIR = os.path.join(DATA_DIR, \"Standings\")\n",
    "SCORES_DIR = os.path.join(DATA_DIR, \"Scores\")\n",
    "\n",
    "os.makedirs(STANDINGS_DIR, exist_ok=True)\n",
    "os.makedirs(SCORES_DIR, exist_ok=True)"
   ]
  },
  {
   "cell_type": "code",
   "execution_count": 58,
   "metadata": {},
   "outputs": [],
   "source": [
    "async def get_html(url, selector, sleep=5, retries=6):\n",
    "    html = None\n",
    "    async with async_playwright() as p:\n",
    "        browser = await p.firefox.launch(headless=True)\n",
    "        page = await browser.new_page()\n",
    "        for i in range(1, retries+1):\n",
    "            try:\n",
    "                await page.goto(url, timeout=30000)\n",
    "                print(await page.title())\n",
    "                html = await page.inner_html(selector, timeout=30000)\n",
    "            except PlaywrightTimeout as e:\n",
    "                print(f\"Timeout error on {url}: {str(e)}\")\n",
    "                await asyncio.sleep(sleep * i)\n",
    "            else:\n",
    "                break\n",
    "        await page.close()\n",
    "        await browser.close()\n",
    "    return html"
   ]
  },
  {
   "cell_type": "code",
   "execution_count": 59,
   "metadata": {},
   "outputs": [],
   "source": [
    "season = 2023\n",
    "\n",
    "url = f\"https://www.basketball-reference.com/leagues/NBA_{season}_games.html\"\n"
   ]
  },
  {
   "cell_type": "code",
   "execution_count": 60,
   "metadata": {},
   "outputs": [],
   "source": [
    "async def scrape_season(season):\n",
    "    url = f\"https://www.basketball-reference.com/leagues/NBA_{season}_games.html\"\n",
    "    html = await get_html(url, \"#content .filter\")\n",
    "    \n",
    "    soup = BeautifulSoup(html, 'html.parser')\n",
    "    links = soup.find_all(\"a\") \n",
    "    href = [l[\"href\"] for l in links]\n",
    "    standings_pages = [f\"https://basketball-reference.com{l}\" for l in href]\n",
    "    \n",
    "    for url in standings_pages:\n",
    "        save_path = os.path.join(STANDINGS_DIR, url.split(\"/\")[-1])\n",
    "        if os.path.exists(save_path):\n",
    "            continue \n",
    "            \n",
    "        html = await get_html(url, \"#all_schedule\")\n",
    "        with open(save_path, \"w+\") as f:\n",
    "            f.write(html)\n",
    "    "
   ]
  },
  {
   "cell_type": "code",
   "execution_count": 61,
   "metadata": {},
   "outputs": [],
   "source": [
    "standings_files = os.listdir(STANDINGS_DIR)"
   ]
  },
  {
   "cell_type": "code",
   "execution_count": 62,
   "metadata": {},
   "outputs": [],
   "source": [
    "async def scrape_game (standings_files):\n",
    "    with open (standings_files, 'r') as f:\n",
    "        html = f.read()\n",
    "        \n",
    "    soup = BeautifulSoup(html)\n",
    "    links = soup.find_all(\"a\")\n",
    "    hrefs = [l.get(\"href\") for l in links]\n",
    "    box_scores = [l for l in hrefs if l and \"boxscore\" in l and \".html\" in l]\n",
    "    box_scores = [f\"https://www.basketball-reference.com{l}\" for l in box_scores]\n",
    "    \n",
    "    for url in box_scores:\n",
    "        save_path = os.path.join(SCORES_DIR, url.split(\"/\") [-1])\n",
    "        if os.path.exists(save_path):\n",
    "            continue \n",
    "\n",
    "        html = await get_html(url, \"#content\")\n",
    "        if not html:\n",
    "            continue \n",
    "        with open(save_path, \"w+\") as f:\n",
    "            f.write(html)\n",
    "    "
   ]
  },
  {
   "cell_type": "code",
   "execution_count": 63,
   "metadata": {},
   "outputs": [],
   "source": [
    "#for f in standings_files:\n",
    "    #filepath = os.path.join(STANDINGS_DIR, f)\n",
    "    \n",
    "    #await scrape_game(filepath)"
   ]
  },
  {
   "cell_type": "code",
   "execution_count": 64,
   "metadata": {
    "scrolled": false
   },
   "outputs": [
    {
     "ename": "Error",
     "evalue": "Executable doesn't exist at /Users/spencergreen/Library/Caches/ms-playwright/firefox-1424/firefox/Nightly.app/Contents/MacOS/firefox\n╔════════════════════════════════════════════════════════════╗\n║ Looks like Playwright was just installed or updated.       ║\n║ Please run the following command to download new browsers: ║\n║                                                            ║\n║     playwright install                                     ║\n║                                                            ║\n║ <3 Playwright Team                                         ║\n╚════════════════════════════════════════════════════════════╝",
     "output_type": "error",
     "traceback": [
      "\u001b[0;31m---------------------------------------------------------------------------\u001b[0m",
      "\u001b[0;31mError\u001b[0m                                     Traceback (most recent call last)",
      "Cell \u001b[0;32mIn[64], line 2\u001b[0m\n\u001b[1;32m      1\u001b[0m \u001b[38;5;28;01mfor\u001b[39;00m season \u001b[38;5;129;01min\u001b[39;00m SEASONS:\n\u001b[0;32m----> 2\u001b[0m     \u001b[38;5;28;01mawait\u001b[39;00m scrape_season(season)\n",
      "Cell \u001b[0;32mIn[60], line 3\u001b[0m, in \u001b[0;36mscrape_season\u001b[0;34m(season)\u001b[0m\n\u001b[1;32m      1\u001b[0m \u001b[38;5;28;01masync\u001b[39;00m \u001b[38;5;28;01mdef\u001b[39;00m \u001b[38;5;21mscrape_season\u001b[39m(season):\n\u001b[1;32m      2\u001b[0m     url \u001b[38;5;241m=\u001b[39m \u001b[38;5;124mf\u001b[39m\u001b[38;5;124m\"\u001b[39m\u001b[38;5;124mhttps://www.basketball-reference.com/leagues/NBA_\u001b[39m\u001b[38;5;132;01m{\u001b[39;00mseason\u001b[38;5;132;01m}\u001b[39;00m\u001b[38;5;124m_games.html\u001b[39m\u001b[38;5;124m\"\u001b[39m\n\u001b[0;32m----> 3\u001b[0m     html \u001b[38;5;241m=\u001b[39m \u001b[38;5;28;01mawait\u001b[39;00m get_html(url, \u001b[38;5;124m\"\u001b[39m\u001b[38;5;124m#content .filter\u001b[39m\u001b[38;5;124m\"\u001b[39m)\n\u001b[1;32m      5\u001b[0m     soup \u001b[38;5;241m=\u001b[39m BeautifulSoup(html, \u001b[38;5;124m'\u001b[39m\u001b[38;5;124mhtml.parser\u001b[39m\u001b[38;5;124m'\u001b[39m)\n\u001b[1;32m      6\u001b[0m     links \u001b[38;5;241m=\u001b[39m soup\u001b[38;5;241m.\u001b[39mfind_all(\u001b[38;5;124m\"\u001b[39m\u001b[38;5;124ma\u001b[39m\u001b[38;5;124m\"\u001b[39m) \n",
      "Cell \u001b[0;32mIn[58], line 4\u001b[0m, in \u001b[0;36mget_html\u001b[0;34m(url, selector, sleep, retries)\u001b[0m\n\u001b[1;32m      2\u001b[0m html \u001b[38;5;241m=\u001b[39m \u001b[38;5;28;01mNone\u001b[39;00m\n\u001b[1;32m      3\u001b[0m \u001b[38;5;28;01masync\u001b[39;00m \u001b[38;5;28;01mwith\u001b[39;00m async_playwright() \u001b[38;5;28;01mas\u001b[39;00m p:\n\u001b[0;32m----> 4\u001b[0m     browser \u001b[38;5;241m=\u001b[39m \u001b[38;5;28;01mawait\u001b[39;00m p\u001b[38;5;241m.\u001b[39mfirefox\u001b[38;5;241m.\u001b[39mlaunch(headless\u001b[38;5;241m=\u001b[39m\u001b[38;5;28;01mTrue\u001b[39;00m)\n\u001b[1;32m      5\u001b[0m     page \u001b[38;5;241m=\u001b[39m \u001b[38;5;28;01mawait\u001b[39;00m browser\u001b[38;5;241m.\u001b[39mnew_page()\n\u001b[1;32m      6\u001b[0m     \u001b[38;5;28;01mfor\u001b[39;00m i \u001b[38;5;129;01min\u001b[39;00m \u001b[38;5;28mrange\u001b[39m(\u001b[38;5;241m1\u001b[39m, retries\u001b[38;5;241m+\u001b[39m\u001b[38;5;241m1\u001b[39m):\n",
      "File \u001b[0;32m~/anaconda3/lib/python3.11/site-packages/playwright/async_api/_generated.py:14714\u001b[0m, in \u001b[0;36mBrowserType.launch\u001b[0;34m(self, executable_path, channel, args, ignore_default_args, handle_sigint, handle_sigterm, handle_sighup, timeout, env, headless, devtools, proxy, downloads_path, slow_mo, traces_dir, chromium_sandbox, firefox_user_prefs)\u001b[0m\n\u001b[1;32m  14596\u001b[0m \u001b[38;5;28;01masync\u001b[39;00m \u001b[38;5;28;01mdef\u001b[39;00m \u001b[38;5;21mlaunch\u001b[39m(\n\u001b[1;32m  14597\u001b[0m     \u001b[38;5;28mself\u001b[39m,\n\u001b[1;32m  14598\u001b[0m     \u001b[38;5;241m*\u001b[39m,\n\u001b[0;32m   (...)\u001b[0m\n\u001b[1;32m  14619\u001b[0m     ] \u001b[38;5;241m=\u001b[39m \u001b[38;5;28;01mNone\u001b[39;00m\n\u001b[1;32m  14620\u001b[0m ) \u001b[38;5;241m-\u001b[39m\u001b[38;5;241m>\u001b[39m \u001b[38;5;124m\"\u001b[39m\u001b[38;5;124mBrowser\u001b[39m\u001b[38;5;124m\"\u001b[39m:\n\u001b[1;32m  14621\u001b[0m \u001b[38;5;250m    \u001b[39m\u001b[38;5;124;03m\"\"\"BrowserType.launch\u001b[39;00m\n\u001b[1;32m  14622\u001b[0m \n\u001b[1;32m  14623\u001b[0m \u001b[38;5;124;03m    Returns the browser instance.\u001b[39;00m\n\u001b[0;32m   (...)\u001b[0m\n\u001b[1;32m  14710\u001b[0m \u001b[38;5;124;03m    Browser\u001b[39;00m\n\u001b[1;32m  14711\u001b[0m \u001b[38;5;124;03m    \"\"\"\u001b[39;00m\n\u001b[1;32m  14713\u001b[0m     \u001b[38;5;28;01mreturn\u001b[39;00m mapping\u001b[38;5;241m.\u001b[39mfrom_impl(\n\u001b[0;32m> 14714\u001b[0m         \u001b[38;5;28;01mawait\u001b[39;00m \u001b[38;5;28mself\u001b[39m\u001b[38;5;241m.\u001b[39m_impl_obj\u001b[38;5;241m.\u001b[39mlaunch(\n\u001b[1;32m  14715\u001b[0m             executablePath\u001b[38;5;241m=\u001b[39mexecutable_path,\n\u001b[1;32m  14716\u001b[0m             channel\u001b[38;5;241m=\u001b[39mchannel,\n\u001b[1;32m  14717\u001b[0m             args\u001b[38;5;241m=\u001b[39mmapping\u001b[38;5;241m.\u001b[39mto_impl(args),\n\u001b[1;32m  14718\u001b[0m             ignoreDefaultArgs\u001b[38;5;241m=\u001b[39mmapping\u001b[38;5;241m.\u001b[39mto_impl(ignore_default_args),\n\u001b[1;32m  14719\u001b[0m             handleSIGINT\u001b[38;5;241m=\u001b[39mhandle_sigint,\n\u001b[1;32m  14720\u001b[0m             handleSIGTERM\u001b[38;5;241m=\u001b[39mhandle_sigterm,\n\u001b[1;32m  14721\u001b[0m             handleSIGHUP\u001b[38;5;241m=\u001b[39mhandle_sighup,\n\u001b[1;32m  14722\u001b[0m             timeout\u001b[38;5;241m=\u001b[39mtimeout,\n\u001b[1;32m  14723\u001b[0m             env\u001b[38;5;241m=\u001b[39mmapping\u001b[38;5;241m.\u001b[39mto_impl(env),\n\u001b[1;32m  14724\u001b[0m             headless\u001b[38;5;241m=\u001b[39mheadless,\n\u001b[1;32m  14725\u001b[0m             devtools\u001b[38;5;241m=\u001b[39mdevtools,\n\u001b[1;32m  14726\u001b[0m             proxy\u001b[38;5;241m=\u001b[39mproxy,\n\u001b[1;32m  14727\u001b[0m             downloadsPath\u001b[38;5;241m=\u001b[39mdownloads_path,\n\u001b[1;32m  14728\u001b[0m             slowMo\u001b[38;5;241m=\u001b[39mslow_mo,\n\u001b[1;32m  14729\u001b[0m             tracesDir\u001b[38;5;241m=\u001b[39mtraces_dir,\n\u001b[1;32m  14730\u001b[0m             chromiumSandbox\u001b[38;5;241m=\u001b[39mchromium_sandbox,\n\u001b[1;32m  14731\u001b[0m             firefoxUserPrefs\u001b[38;5;241m=\u001b[39mmapping\u001b[38;5;241m.\u001b[39mto_impl(firefox_user_prefs),\n\u001b[1;32m  14732\u001b[0m         )\n\u001b[1;32m  14733\u001b[0m     )\n",
      "File \u001b[0;32m~/anaconda3/lib/python3.11/site-packages/playwright/_impl/_browser_type.py:96\u001b[0m, in \u001b[0;36mBrowserType.launch\u001b[0;34m(self, executablePath, channel, args, ignoreDefaultArgs, handleSIGINT, handleSIGTERM, handleSIGHUP, timeout, env, headless, devtools, proxy, downloadsPath, slowMo, tracesDir, chromiumSandbox, firefoxUserPrefs)\u001b[0m\n\u001b[1;32m     93\u001b[0m params \u001b[38;5;241m=\u001b[39m locals_to_params(\u001b[38;5;28mlocals\u001b[39m())\n\u001b[1;32m     94\u001b[0m normalize_launch_params(params)\n\u001b[1;32m     95\u001b[0m browser \u001b[38;5;241m=\u001b[39m cast(\n\u001b[0;32m---> 96\u001b[0m     Browser, from_channel(\u001b[38;5;28;01mawait\u001b[39;00m \u001b[38;5;28mself\u001b[39m\u001b[38;5;241m.\u001b[39m_channel\u001b[38;5;241m.\u001b[39msend(\u001b[38;5;124m\"\u001b[39m\u001b[38;5;124mlaunch\u001b[39m\u001b[38;5;124m\"\u001b[39m, params))\n\u001b[1;32m     97\u001b[0m )\n\u001b[1;32m     98\u001b[0m \u001b[38;5;28mself\u001b[39m\u001b[38;5;241m.\u001b[39m_did_launch_browser(browser)\n\u001b[1;32m     99\u001b[0m \u001b[38;5;28;01mreturn\u001b[39;00m browser\n",
      "File \u001b[0;32m~/anaconda3/lib/python3.11/site-packages/playwright/_impl/_connection.py:61\u001b[0m, in \u001b[0;36mChannel.send\u001b[0;34m(self, method, params)\u001b[0m\n\u001b[1;32m     60\u001b[0m \u001b[38;5;28;01masync\u001b[39;00m \u001b[38;5;28;01mdef\u001b[39;00m \u001b[38;5;21msend\u001b[39m(\u001b[38;5;28mself\u001b[39m, method: \u001b[38;5;28mstr\u001b[39m, params: Dict \u001b[38;5;241m=\u001b[39m \u001b[38;5;28;01mNone\u001b[39;00m) \u001b[38;5;241m-\u001b[39m\u001b[38;5;241m>\u001b[39m Any:\n\u001b[0;32m---> 61\u001b[0m     \u001b[38;5;28;01mreturn\u001b[39;00m \u001b[38;5;28;01mawait\u001b[39;00m \u001b[38;5;28mself\u001b[39m\u001b[38;5;241m.\u001b[39m_connection\u001b[38;5;241m.\u001b[39mwrap_api_call(\n\u001b[1;32m     62\u001b[0m         \u001b[38;5;28;01mlambda\u001b[39;00m: \u001b[38;5;28mself\u001b[39m\u001b[38;5;241m.\u001b[39minner_send(method, params, \u001b[38;5;28;01mFalse\u001b[39;00m)\n\u001b[1;32m     63\u001b[0m     )\n",
      "File \u001b[0;32m~/anaconda3/lib/python3.11/site-packages/playwright/_impl/_connection.py:482\u001b[0m, in \u001b[0;36mConnection.wrap_api_call\u001b[0;34m(self, cb, is_internal)\u001b[0m\n\u001b[1;32m    480\u001b[0m \u001b[38;5;28mself\u001b[39m\u001b[38;5;241m.\u001b[39m_api_zone\u001b[38;5;241m.\u001b[39mset(_extract_stack_trace_information_from_stack(st, is_internal))\n\u001b[1;32m    481\u001b[0m \u001b[38;5;28;01mtry\u001b[39;00m:\n\u001b[0;32m--> 482\u001b[0m     \u001b[38;5;28;01mreturn\u001b[39;00m \u001b[38;5;28;01mawait\u001b[39;00m cb()\n\u001b[1;32m    483\u001b[0m \u001b[38;5;28;01mfinally\u001b[39;00m:\n\u001b[1;32m    484\u001b[0m     \u001b[38;5;28mself\u001b[39m\u001b[38;5;241m.\u001b[39m_api_zone\u001b[38;5;241m.\u001b[39mset(\u001b[38;5;28;01mNone\u001b[39;00m)\n",
      "File \u001b[0;32m~/anaconda3/lib/python3.11/site-packages/playwright/_impl/_connection.py:97\u001b[0m, in \u001b[0;36mChannel.inner_send\u001b[0;34m(self, method, params, return_as_dict)\u001b[0m\n\u001b[1;32m     95\u001b[0m \u001b[38;5;28;01mif\u001b[39;00m \u001b[38;5;129;01mnot\u001b[39;00m callback\u001b[38;5;241m.\u001b[39mfuture\u001b[38;5;241m.\u001b[39mdone():\n\u001b[1;32m     96\u001b[0m     callback\u001b[38;5;241m.\u001b[39mfuture\u001b[38;5;241m.\u001b[39mcancel()\n\u001b[0;32m---> 97\u001b[0m result \u001b[38;5;241m=\u001b[39m \u001b[38;5;28mnext\u001b[39m(\u001b[38;5;28miter\u001b[39m(done))\u001b[38;5;241m.\u001b[39mresult()\n\u001b[1;32m     98\u001b[0m \u001b[38;5;66;03m# Protocol now has named return values, assume result is one level deeper unless\u001b[39;00m\n\u001b[1;32m     99\u001b[0m \u001b[38;5;66;03m# there is explicit ambiguity.\u001b[39;00m\n\u001b[1;32m    100\u001b[0m \u001b[38;5;28;01mif\u001b[39;00m \u001b[38;5;129;01mnot\u001b[39;00m result:\n",
      "\u001b[0;31mError\u001b[0m: Executable doesn't exist at /Users/spencergreen/Library/Caches/ms-playwright/firefox-1424/firefox/Nightly.app/Contents/MacOS/firefox\n╔════════════════════════════════════════════════════════════╗\n║ Looks like Playwright was just installed or updated.       ║\n║ Please run the following command to download new browsers: ║\n║                                                            ║\n║     playwright install                                     ║\n║                                                            ║\n║ <3 Playwright Team                                         ║\n╚════════════════════════════════════════════════════════════╝"
     ]
    }
   ],
   "source": [
    "for season in SEASONS:\n",
    "    await scrape_season(season)"
   ]
  },
  {
   "cell_type": "code",
   "execution_count": null,
   "metadata": {},
   "outputs": [],
   "source": []
  }
 ],
 "metadata": {
  "kernelspec": {
   "display_name": "Python 3 (ipykernel)",
   "language": "python",
   "name": "python3"
  },
  "language_info": {
   "codemirror_mode": {
    "name": "ipython",
    "version": 3
   },
   "file_extension": ".py",
   "mimetype": "text/x-python",
   "name": "python",
   "nbconvert_exporter": "python",
   "pygments_lexer": "ipython3",
   "version": "3.11.5"
  }
 },
 "nbformat": 4,
 "nbformat_minor": 4
}
