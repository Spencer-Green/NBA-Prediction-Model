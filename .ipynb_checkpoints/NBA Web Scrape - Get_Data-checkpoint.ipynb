{
 "cells": [
  {
   "cell_type": "code",
   "execution_count": 1,
   "metadata": {},
   "outputs": [],
   "source": [
    "import os\n",
    "import asyncio\n",
    "from bs4 import BeautifulSoup\n",
    "from playwright.async_api import async_playwright, TimeoutError as PlaywrightTimeout\n",
    "\n",
    "import time\n",
    "import chardet"
   ]
  },
  {
   "cell_type": "code",
   "execution_count": 2,
   "metadata": {},
   "outputs": [],
   "source": [
    "# defining range of recent NBA seasons to scrape (update the years to scape any number of season in recorded NBA history)\n",
    "\n",
    "SEASONS = list(range(2024, 2025))"
   ]
  },
  {
   "cell_type": "code",
   "execution_count": 3,
   "metadata": {},
   "outputs": [
    {
     "data": {
      "text/plain": [
       "[2024]"
      ]
     },
     "execution_count": 3,
     "metadata": {},
     "output_type": "execute_result"
    }
   ],
   "source": [
    "SEASONS"
   ]
  },
  {
   "cell_type": "code",
   "execution_count": 4,
   "metadata": {},
   "outputs": [],
   "source": [
    "# Creating directories on local drive for scraped data (STANDINGS_DIR was for initial training data to refine model. STANDINGS_UPDATED_DIR is for up to date data for future predictions of 2024 season)\n",
    "\n",
    "DATA_DIR = \"Data\"\n",
    "STANDINGS_DIR = os.path.join(DATA_DIR, \"Standings\")\n",
    "STANDINGS_UPDATED_DIR = os.path.join(DATA_DIR, \"Updated_Standings\")\n",
    "SCORES_DIR = os.path.join(DATA_DIR, \"Scores\")\n",
    "\n",
    "\n",
    "os.makedirs(STANDINGS_DIR, exist_ok=True)\n",
    "os.makedirs(STANDINGS_UPDATED_DIR, exist_ok=True)\n",
    "os.makedirs(SCORES_DIR, exist_ok=True)\n"
   ]
  },
  {
   "cell_type": "code",
   "execution_count": 5,
   "metadata": {},
   "outputs": [],
   "source": [
    "standings_files = os.listdir(STANDINGS_UPDATED_DIR)\n"
   ]
  },
  {
   "cell_type": "code",
   "execution_count": 6,
   "metadata": {},
   "outputs": [],
   "source": [
    "# get HTML function: passing in URL, selector, sleep interval and a number of retries\n",
    "\n",
    "async def get_html(url, selector, sleep=5, retries=6):\n",
    "    html = None\n",
    "    # initialise playwright, browser\n",
    "    async with async_playwright() as p:\n",
    "        browser = await p.firefox.launch(headless=True)\n",
    "        page = await browser.new_page()\n",
    "        for i in range(1, retries+1):\n",
    "            \n",
    "            # wrap it into a try except block\n",
    "            try:\n",
    "                await page.goto(url, timeout=30000)\n",
    "                print(await page.title())\n",
    "                html = await page.inner_html(selector, timeout=30000)\n",
    "            except PlaywrightTimeout as e:\n",
    "                print(f\"Timeout error on {url}: {str(e)}\")\n",
    "                await asyncio.sleep(sleep * i)\n",
    "            else:\n",
    "                break\n",
    "        await page.close()\n",
    "        await browser.close()\n",
    "    return html"
   ]
  },
  {
   "cell_type": "code",
   "execution_count": 7,
   "metadata": {},
   "outputs": [],
   "source": [
    "season = 2024\n",
    "\n",
    "url = f\"https://www.basketball-reference.com/leagues/NBA_{season}_games.html\"\n"
   ]
  },
  {
   "cell_type": "code",
   "execution_count": 8,
   "metadata": {},
   "outputs": [],
   "source": [
    "# scrape season by season function (will then break this down into box_scores for each game per season)\n",
    "\n",
    "async def scrape_season(season):\n",
    "    url = f\"https://www.basketball-reference.com/leagues/NBA_{season}_games.html\"\n",
    "    html = await get_html(url, \"#content .filter\")\n",
    "    \n",
    "    soup = BeautifulSoup(html, 'html.parser')\n",
    "    links = soup.find_all(\"a\") \n",
    "    href = [l[\"href\"] for l in links]\n",
    "    standings_pages = [f\"https://basketball-reference.com{l}\" for l in href]\n",
    "    \n",
    "    for url in standings_pages:\n",
    "        save_path = os.path.join(STANDINGS_UPDATED_DIR, url.split(\"/\")[-1])\n",
    "        if os.path.exists(save_path):\n",
    "            continue \n",
    "            \n",
    "        html = await get_html(url, \"#all_schedule\")\n",
    "        with open(save_path, \"w+\") as f:\n",
    "            f.write(html)\n",
    "    "
   ]
  },
  {
   "cell_type": "code",
   "execution_count": 9,
   "metadata": {
    "scrolled": true
   },
   "outputs": [
    {
     "name": "stdout",
     "output_type": "stream",
     "text": [
      "2023-24 NBA Schedule | Basketball-Reference.com\n",
      "2023-24 NBA Schedule | Basketball-Reference.com\n"
     ]
    }
   ],
   "source": [
    "for season in SEASONS:\n",
    "    await scrape_season(season)"
   ]
  },
  {
   "cell_type": "code",
   "execution_count": 10,
   "metadata": {},
   "outputs": [],
   "source": [
    "standings_files = os.listdir(STANDINGS_UPDATED_DIR)\n"
   ]
  },
  {
   "cell_type": "code",
   "execution_count": 11,
   "metadata": {},
   "outputs": [],
   "source": [
    "# parsing each individual box score per season \n",
    "async def scrape_game (standings_file):\n",
    "    with open (standings_file, 'r', encoding='ISO-8859-1') as f:\n",
    "        html = f.read()\n",
    "\n",
    "    soup = BeautifulSoup(html)\n",
    "    links = soup.find_all(\"a\")\n",
    "    hrefs = [l.get(\"href\") for l in links]\n",
    "    box_scores = [l for l in hrefs if l and \"boxscore\" in l and \".html\" in l]\n",
    "    box_scores = [f\"https://www.basketball-reference.com{l}\" for l in box_scores]\n",
    "\n",
    "    for url in box_scores:\n",
    "        save_path = os.path.join(SCORES_DIR, url.split(\"/\") [-1])\n",
    "        if os.path.exists(save_path):\n",
    "            continue \n",
    "\n",
    "        html = await get_html(url, \"#content\")\n",
    "        if not html:\n",
    "            continue \n",
    "        with open(save_path, \"w+\") as f:\n",
    "            f.write(html)\n",
    "    "
   ]
  },
  {
   "cell_type": "code",
   "execution_count": 12,
   "metadata": {},
   "outputs": [
    {
     "name": "stdout",
     "output_type": "stream",
     "text": [
      "Raptors vs Pacers, February 26, 2024 | Basketball-Reference.com\n",
      "Pistons vs Knicks, February 26, 2024 | Basketball-Reference.com\n",
      "Timeout error on https://www.basketball-reference.com/boxscores/202402260MEM.html: Timeout 30000ms exceeded.\n",
      "=========================== logs ===========================\n",
      "navigating to \"https://www.basketball-reference.com/boxscores/202402260MEM.html\", waiting until \"load\"\n",
      "============================================================\n",
      "Nets vs Grizzlies, February 26, 2024 | Basketball-Reference.com\n",
      "Heat vs Kings, February 26, 2024 | Basketball-Reference.com\n",
      "Mavericks vs Cavaliers, February 27, 2024 | Basketball-Reference.com\n",
      "Nets vs Magic, February 27, 2024 | Basketball-Reference.com\n",
      "Warriors vs Wizards, February 27, 2024 | Basketball-Reference.com\n",
      "Timeout error on https://www.basketball-reference.com/boxscores/202402270ATL.html: Timeout 30000ms exceeded.\n",
      "=========================== logs ===========================\n",
      "navigating to \"https://www.basketball-reference.com/boxscores/202402270ATL.html\", waiting until \"load\"\n",
      "============================================================\n",
      "Jazz vs Hawks, February 27, 2024 | Basketball-Reference.com\n",
      "76ers vs Celtics, February 27, 2024 | Basketball-Reference.com\n",
      "Pelicans vs Knicks, February 27, 2024 | Basketball-Reference.com\n",
      "Pistons vs Bulls, February 27, 2024 | Basketball-Reference.com\n",
      "Timeout error on https://www.basketball-reference.com/boxscores/202402270MIL.html: Timeout 30000ms exceeded.\n",
      "=========================== logs ===========================\n",
      "navigating to \"https://www.basketball-reference.com/boxscores/202402270MIL.html\", waiting until \"load\"\n",
      "============================================================\n",
      "Hornets vs Bucks, February 27, 2024 | Basketball-Reference.com\n",
      "Spurs vs Timberwolves, February 27, 2024 | Basketball-Reference.com\n",
      "Rockets vs Thunder, February 27, 2024 | Basketball-Reference.com\n",
      "Timeout error on https://www.basketball-reference.com/boxscores/202402270POR.html: Timeout 30000ms exceeded.\n",
      "=========================== logs ===========================\n",
      "navigating to \"https://www.basketball-reference.com/boxscores/202402270POR.html\", waiting until \"load\"\n",
      "============================================================\n",
      "Timeout error on https://www.basketball-reference.com/boxscores/202402270POR.html: Timeout 30000ms exceeded.\n",
      "=========================== logs ===========================\n",
      "navigating to \"https://www.basketball-reference.com/boxscores/202402270POR.html\", waiting until \"load\"\n",
      "============================================================\n",
      "Heat vs Trail Blazers, February 27, 2024 | Basketball-Reference.com\n"
     ]
    }
   ],
   "source": [
    "# downloading the box scores to drive\n",
    "\n",
    "for f in standings_files:\n",
    "    filepath = os.path.join(STANDINGS_UPDATED_DIR, f)\n",
    "        \n",
    "    await scrape_game(filepath)"
   ]
  },
  {
   "cell_type": "code",
   "execution_count": 88,
   "metadata": {},
   "outputs": [
    {
     "data": {
      "text/plain": [
       "['.DS_Store']"
      ]
     },
     "execution_count": 88,
     "metadata": {},
     "output_type": "execute_result"
    }
   ],
   "source": []
  },
  {
   "cell_type": "code",
   "execution_count": null,
   "metadata": {},
   "outputs": [],
   "source": []
  }
 ],
 "metadata": {
  "kernelspec": {
   "display_name": "Python 3 (ipykernel)",
   "language": "python",
   "name": "python3"
  },
  "language_info": {
   "codemirror_mode": {
    "name": "ipython",
    "version": 3
   },
   "file_extension": ".py",
   "mimetype": "text/x-python",
   "name": "python",
   "nbconvert_exporter": "python",
   "pygments_lexer": "ipython3",
   "version": "3.11.5"
  }
 },
 "nbformat": 4,
 "nbformat_minor": 4
}
